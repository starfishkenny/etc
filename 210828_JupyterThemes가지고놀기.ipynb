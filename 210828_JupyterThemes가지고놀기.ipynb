{
 "cells": [
  {
   "cell_type": "markdown",
   "id": "wired-somalia",
   "metadata": {},
   "source": [
    "# Jupyter Themes로 Jupyter Noteboom 테마 커스터마이징\n",
    "\n",
    "* reference:  https://github.com/dunovank/jupyter-themes"
   ]
  },
  {
   "cell_type": "code",
   "execution_count": null,
   "id": "armed-latter",
   "metadata": {},
   "outputs": [],
   "source": [
    "# 라이브러리 설치\n",
    "!pip install jupyterthemes"
   ]
  },
  {
   "cell_type": "code",
   "execution_count": null,
   "id": "exotic-channel",
   "metadata": {},
   "outputs": [],
   "source": [
    "# 리셋\n",
    "!jt -r"
   ]
  },
  {
   "cell_type": "code",
   "execution_count": null,
   "id": "rental-horizon",
   "metadata": {},
   "outputs": [],
   "source": [
    "# 적용가능한 테마 불러오기\n",
    "!jt -l"
   ]
  },
  {
   "cell_type": "code",
   "execution_count": null,
   "id": "german-ethernet",
   "metadata": {},
   "outputs": [],
   "source": [
    "# 기본 포맷\n",
    "\n",
    "'''\n",
    "\n",
    "!jt  [-h] [-l] [-t THEME] [-f MONOFONT] [-fs MONOSIZE] [-nf NBFONT]\n",
    "    [-nfs NBFONTSIZE] [-tf TCFONT] [-tfs TCFONTSIZE] \n",
    "    [-dfs DFFONTSIZE] [-m MARGINS] [-cursw CURSORWIDTH] \n",
    "    [-cursc CURSORCOLOR] [-vim]\n",
    "    [-cellw CELLWIDTH] [-lineh LINEHEIGHT] [-altp] [-altmd] \n",
    "    [-altout] [-P] [-T] [-N] [-r] [-dfonts]\n",
    "    \n",
    "'''"
   ]
  },
  {
   "cell_type": "code",
   "execution_count": null,
   "id": "stretch-hundred",
   "metadata": {},
   "outputs": [],
   "source": [
    "# 도움 표시\n",
    "!jt -h"
   ]
  },
  {
   "cell_type": "code",
   "execution_count": null,
   "id": "apparent-husband",
   "metadata": {},
   "outputs": [],
   "source": [
    "# 테마 적용\n",
    "!jt -t gruvboxd"
   ]
  },
  {
   "cell_type": "code",
   "execution_count": null,
   "id": "contrary-bleeding",
   "metadata": {},
   "outputs": [],
   "source": [
    "# 툴바 표시\n",
    "! jt -t gruvboxd -T "
   ]
  },
  {
   "cell_type": "code",
   "execution_count": null,
   "id": "disturbed-religious",
   "metadata": {},
   "outputs": [],
   "source": [
    "# 나의 테마 적용\n",
    "!jt -t gruvboxd -f D2Coding -fs 115 -nf D2Coding -nfs 125 -tf D2Coding -tfs 115 -dfs 11 -ofs 115 -mathfs 90 -cursw 3 -cursc o -cellw 88% -lineh 155 -altmd -altout -kl -T -N"
   ]
  },
  {
   "cell_type": "code",
   "execution_count": null,
   "id": "silent-invitation",
   "metadata": {},
   "outputs": [],
   "source": []
  }
 ],
 "metadata": {
  "kernelspec": {
   "display_name": "Python 3",
   "language": "python",
   "name": "python3"
  },
  "language_info": {
   "codemirror_mode": {
    "name": "ipython",
    "version": 3
   },
   "file_extension": ".py",
   "mimetype": "text/x-python",
   "name": "python",
   "nbconvert_exporter": "python",
   "pygments_lexer": "ipython3",
   "version": "3.8.8"
  }
 },
 "nbformat": 4,
 "nbformat_minor": 5
}
