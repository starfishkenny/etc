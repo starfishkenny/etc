{
 "cells": [
  {
   "cell_type": "markdown",
   "id": "wired-somalia",
   "metadata": {},
   "source": [
    "# Jupyter Themes로 Jupyter Noteboom 테마 커스터마이징\n",
    "\n",
    "* reference:  https://github.com/dunovank/jupyter-themes"
   ]
  },
  {
   "cell_type": "code",
   "execution_count": null,
   "id": "armed-latter",
   "metadata": {},
   "outputs": [],
   "source": [
    "# 라이브러리 설치\n",
    "!pip install jupyterthemes"
   ]
  },
  {
   "cell_type": "code",
   "execution_count": null,
   "id": "exotic-channel",
   "metadata": {},
   "outputs": [],
   "source": [
    "# 리셋\n",
    "!jt -r"
   ]
  },
  {
   "cell_type": "code",
   "execution_count": null,
   "id": "rental-horizon",
   "metadata": {},
   "outputs": [],
   "source": [
    "# 적용가능한 테마 불러오기\n",
    "!jt -l"
   ]
  },
  {
   "cell_type": "code",
   "execution_count": null,
   "id": "apparent-husband",
   "metadata": {},
   "outputs": [],
   "source": [
    "# 테마 적용\n",
    "!jt -t gruvboxd"
   ]
  },
  {
   "cell_type": "code",
   "execution_count": null,
   "id": "contrary-bleeding",
   "metadata": {},
   "outputs": [],
   "source": [
    "# 툴바 표시\n",
    "! jt -t gruvboxd -T "
   ]
  },
  {
   "cell_type": "code",
   "execution_count": null,
   "id": "german-ethernet",
   "metadata": {},
   "outputs": [],
   "source": [
    "# 기본 포맷\n",
    "\n",
    "'''\n",
    "\n",
    "!jt  [-h] [-l] [-t THEME] [-f MONOFONT] [-fs MONOSIZE] [-nf NBFONT]\n",
    "    [-nfs NBFONTSIZE] [-tf TCFONT] [-tfs TCFONTSIZE] \n",
    "    [-dfs DFFONTSIZE] [-m MARGINS] [-cursw CURSORWIDTH] \n",
    "    [-cursc CURSORCOLOR] [-vim]\n",
    "    [-cellw CELLWIDTH] [-lineh LINEHEIGHT] [-altp] [-altmd] \n",
    "    [-altout] [-P] [-T] [-N] [-r] [-dfonts]\n",
    "    \n",
    "'''"
   ]
  },
  {
   "cell_type": "code",
   "execution_count": null,
   "id": "disturbed-religious",
   "metadata": {},
   "outputs": [],
   "source": [
    "# 나의 테마 적용\n",
    "\n",
    "!jt -t gruvboxd -f D2Coding -fs 11.5 -nf D2Coding -nfs 12.5 -tf D2coding -tfs 11.5 -dfs 11.5 -ofs 11.5 -mathfs 90 -cursw 3 -cursc g -cellw 95% -lineh 150 -altp -altmd -altout  -kl -T -N"
   ]
  },
  {
   "cell_type": "code",
   "execution_count": null,
   "id": "traditional-weather",
   "metadata": {},
   "outputs": [],
   "source": []
  },
  {
   "cell_type": "code",
   "execution_count": null,
   "id": "suburban-columbus",
   "metadata": {},
   "outputs": [],
   "source": []
  },
  {
   "cell_type": "code",
   "execution_count": null,
   "id": "understanding-broadway",
   "metadata": {},
   "outputs": [],
   "source": []
  },
  {
   "cell_type": "code",
   "execution_count": null,
   "id": "sealed-karen",
   "metadata": {},
   "outputs": [],
   "source": []
  },
  {
   "cell_type": "code",
   "execution_count": null,
   "id": "silent-invitation",
   "metadata": {},
   "outputs": [],
   "source": []
  }
 ],
 "metadata": {
  "kernelspec": {
   "display_name": "Python 3",
   "language": "python",
   "name": "python3"
  },
  "language_info": {
   "codemirror_mode": {
    "name": "ipython",
    "version": 3
   },
   "file_extension": ".py",
   "mimetype": "text/x-python",
   "name": "python",
   "nbconvert_exporter": "python",
   "pygments_lexer": "ipython3",
   "version": "3.8.8"
  }
 },
 "nbformat": 4,
 "nbformat_minor": 5
}
